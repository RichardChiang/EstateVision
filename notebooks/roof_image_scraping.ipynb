{
 "cells": [
  {
   "cell_type": "code",
   "execution_count": 1,
   "metadata": {},
   "outputs": [],
   "source": [
    "# allow imports from src\n",
    "import sys\n",
    "\n",
    "sys.path.append(\"..\")\n",
    "\n",
    "# autoreload code\n",
    "%load_ext autoreload\n",
    "%autoreload 2"
   ]
  },
  {
   "cell_type": "markdown",
   "metadata": {},
   "source": [
    "# Scraping static map images from Google Maps API"
   ]
  },
  {
   "cell_type": "code",
   "execution_count": 2,
   "metadata": {},
   "outputs": [],
   "source": [
    "import requests\n",
    "\n",
    "from src.scraping import GoogleMapsScraper, MapType, FileSystem\n",
    "from src.settings import google_maps_api_key\n",
    "\n",
    "scraper = GoogleMapsScraper(\n",
    "    google_maps_api_key,\n",
    "    \"../data/static_maps\",\n",
    "    requests,\n",
    "    FileSystem(),\n",
    ")\n",
    "TEST_LAT, TEST_LON = 28.76584641574725, -81.26798109985344\n",
    "street_file = scraper.get_map_image(MapType.STREET, TEST_LAT, TEST_LON)\n",
    "satellite_file = scraper.get_map_image(MapType.SATELLITE, TEST_LAT, TEST_LON)"
   ]
  },
  {
   "cell_type": "code",
   "execution_count": 4,
   "metadata": {},
   "outputs": [
    {
     "ename": "ImportError",
     "evalue": "cannot import name 'load_images' from 'src.utils' (/home/rchiang/Code/EstateVision/notebooks/../src/utils.py)",
     "output_type": "error",
     "traceback": [
      "\u001b[0;31m---------------------------------------------------------------------------\u001b[0m",
      "\u001b[0;31mImportError\u001b[0m                               Traceback (most recent call last)",
      "\u001b[1;32m/home/rchiang/Code/EstateVision/notebooks/roof_image_scraping.ipynb Cell 4\u001b[0m line \u001b[0;36m1\n\u001b[0;32m----> <a href='vscode-notebook-cell://ssh-remote%2B7b22686f73744e616d65223a225365727665724174446f6d73227d/home/rchiang/Code/EstateVision/notebooks/roof_image_scraping.ipynb#X10sdnNjb2RlLXJlbW90ZQ%3D%3D?line=0'>1</a>\u001b[0m \u001b[39mfrom\u001b[39;00m \u001b[39msrc\u001b[39;00m\u001b[39m.\u001b[39;00m\u001b[39mutils\u001b[39;00m \u001b[39mimport\u001b[39;00m display_multiple_images, load_images\n\u001b[1;32m      <a href='vscode-notebook-cell://ssh-remote%2B7b22686f73744e616d65223a225365727665724174446f6d73227d/home/rchiang/Code/EstateVision/notebooks/roof_image_scraping.ipynb#X10sdnNjb2RlLXJlbW90ZQ%3D%3D?line=2'>3</a>\u001b[0m display_multiple_images(\n\u001b[1;32m      <a href='vscode-notebook-cell://ssh-remote%2B7b22686f73744e616d65223a225365727665724174446f6d73227d/home/rchiang/Code/EstateVision/notebooks/roof_image_scraping.ipynb#X10sdnNjb2RlLXJlbW90ZQ%3D%3D?line=3'>4</a>\u001b[0m     images\u001b[39m=\u001b[39m[load_images(street_file), load_images(satellite_file)],\n\u001b[1;32m      <a href='vscode-notebook-cell://ssh-remote%2B7b22686f73744e616d65223a225365727665724174446f6d73227d/home/rchiang/Code/EstateVision/notebooks/roof_image_scraping.ipynb#X10sdnNjb2RlLXJlbW90ZQ%3D%3D?line=4'>5</a>\u001b[0m     labels\u001b[39m=\u001b[39m[\u001b[39m\"\u001b[39m\u001b[39mStreet\u001b[39m\u001b[39m\"\u001b[39m, \u001b[39m\"\u001b[39m\u001b[39mSatellite\u001b[39m\u001b[39m\"\u001b[39m],\n\u001b[1;32m      <a href='vscode-notebook-cell://ssh-remote%2B7b22686f73744e616d65223a225365727665724174446f6d73227d/home/rchiang/Code/EstateVision/notebooks/roof_image_scraping.ipynb#X10sdnNjb2RlLXJlbW90ZQ%3D%3D?line=5'>6</a>\u001b[0m )\n",
      "\u001b[0;31mImportError\u001b[0m: cannot import name 'load_images' from 'src.utils' (/home/rchiang/Code/EstateVision/notebooks/../src/utils.py)"
     ]
    }
   ],
   "source": [
    "from src.utils import display_multiple_images, load_image\n",
    "\n",
    "display_multiple_images(\n",
    "    images=[load_image(street_file), load_image(satellite_file)],\n",
    "    labels=[\"Street\", \"Satellite\"],\n",
    ")"
   ]
  }
 ],
 "metadata": {
  "kernelspec": {
   "display_name": "estatevision",
   "language": "python",
   "name": "python3"
  },
  "language_info": {
   "codemirror_mode": {
    "name": "ipython",
    "version": 3
   },
   "file_extension": ".py",
   "mimetype": "text/x-python",
   "name": "python",
   "nbconvert_exporter": "python",
   "pygments_lexer": "ipython3",
   "version": "3.9.18"
  },
  "orig_nbformat": 4
 },
 "nbformat": 4,
 "nbformat_minor": 2
}
